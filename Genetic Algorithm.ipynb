{
 "cells": [
  {
   "cell_type": "code",
   "execution_count": 42,
   "metadata": {},
   "outputs": [],
   "source": [
    "import numpy as np\n",
    "import random\n"
   ]
  },
  {
   "cell_type": "code",
   "execution_count": 43,
   "metadata": {},
   "outputs": [],
   "source": [
    "#details\n",
    "num_of_jobs=5           #number of jobs\n",
    "p_time=[3,4,6,10,2]     #processing time of jobs\n",
    "d_date=[3,10,17,18,15]  #due dates\n",
    "\n"
   ]
  },
  {
   "cell_type": "code",
   "execution_count": 44,
   "metadata": {},
   "outputs": [
    {
     "name": "stdout",
     "output_type": "stream",
     "text": [
      "[0, 4, 1, 2, 3]\n",
      "[0, 1, 3, 4, 2]\n",
      "[4, 1, 3, 2, 0]\n",
      "[1, 4, 3, 0, 2]\n",
      "[4, 2, 1, 0, 3]\n",
      "[4, 2, 0, 1, 3]\n",
      "[3, 2, 0, 1, 4]\n",
      "[0, 2, 4, 1, 3]\n",
      "[2, 4, 3, 1, 0]\n",
      "[3, 4, 1, 0, 2]\n"
     ]
    }
   ],
   "source": [
    "#randomly initialize the population\n",
    "population=[]\n",
    "#lets have our population size to be 10 i.e. there will be 10 individuals in our population\n",
    "for i in range (10):\n",
    "    l=np.random.permutation(num_of_jobs)\n",
    "    l=list(l)\n",
    "    population.append((l))\n",
    "print(*population, sep='\\n')"
   ]
  },
  {
   "cell_type": "code",
   "execution_count": 45,
   "metadata": {},
   "outputs": [],
   "source": [
    "#calculating total lateness\n",
    "def fitness_func(x):\n",
    "    c=0\n",
    "    l=[]\n",
    "    for i in range (0,len(x)):\n",
    "        c+=p_time[x[i]]\n",
    "        lateness=c-d_date[x[i]]\n",
    "        if lateness>0:\n",
    "            l.append(lateness)\n",
    "    return sum(l)"
   ]
  },
  {
   "cell_type": "code",
   "execution_count": 46,
   "metadata": {},
   "outputs": [
    {
     "data": {
      "text/plain": [
       "[[0, 4, 1, 2, 3],\n",
       " [0, 1, 3, 4, 2],\n",
       " [0, 2, 4, 1, 3],\n",
       " [4, 2, 0, 1, 3],\n",
       " [4, 2, 1, 0, 3],\n",
       " [1, 4, 3, 0, 2],\n",
       " [4, 1, 3, 2, 0],\n",
       " [3, 4, 1, 0, 2],\n",
       " [2, 4, 3, 1, 0],\n",
       " [3, 2, 0, 1, 4]]"
      ]
     },
     "execution_count": 46,
     "metadata": {},
     "output_type": "execute_result"
    }
   ],
   "source": [
    "#fitness_func([1, 0, 2, 4, 3],p_time,d_date)\n",
    "#population\n",
    "population.sort(key=lambda x: fitness_func(x))\n",
    "population"
   ]
  },
  {
   "cell_type": "code",
   "execution_count": 48,
   "metadata": {},
   "outputs": [
    {
     "data": {
      "text/plain": [
       "[[0, 4, 1, 2, 3], [0, 1, 3, 4, 2]]"
      ]
     },
     "execution_count": 48,
     "metadata": {},
     "output_type": "execute_result"
    }
   ],
   "source": [
    "def select_parent(population):\n",
    "    #global parents\n",
    "    parents=population[0:2]\n",
    "    #print(parents)\n",
    "    #print(type(parents))\n",
    "    return parents\n",
    "parents=select_parent(population)\n",
    "parents"
   ]
  },
  {
   "cell_type": "code",
   "execution_count": 50,
   "metadata": {},
   "outputs": [
    {
     "data": {
      "text/plain": [
       "[[0, 4, 1, 4, 2], [0, 1, 3, 2, 3]]"
      ]
     },
     "execution_count": 50,
     "metadata": {},
     "output_type": "execute_result"
    }
   ],
   "source": [
    "def crossover(parents):\n",
    "    #global parents\n",
    "    cross_point = random.randint(0,5)\n",
    "    #print(cross_point)\n",
    "    offspring=[]\n",
    "    offspring=offspring+ [(parents[0][0:cross_point +1] +parents[1][cross_point+1:])]\n",
    "    offspring=offspring+ [(parents[1][0:cross_point +1] +parents[0][cross_point+1:])]\n",
    "    \n",
    "    #print(offspring)\n",
    "    return offspring\n",
    "offspring=crossover(parents)\n",
    "offspring"
   ]
  },
  {
   "cell_type": "code",
   "execution_count": 58,
   "metadata": {},
   "outputs": [
    {
     "name": "stdout",
     "output_type": "stream",
     "text": [
      "[[0, 3, 1, 4, 2], [0, 1, 4, 2, 3]]\n",
      "2\n"
     ]
    }
   ],
   "source": [
    "def offspring_repair(offspring):\n",
    "    for i in range(0,len(offspring)):\n",
    "        l=[]\n",
    "        for j in range (0,5):\n",
    "            if j not in offspring[i]:\n",
    "                l.append(j)\n",
    "        for j in range (len(offspring[i])):\n",
    "            if offspring[i].count(offspring[i][j])>1:\n",
    "                offspring[i][j]=random.choice(l)\n",
    "                l.remove(offspring[i][j])\n",
    "    #print(offspring)\n",
    "    return offspring\n",
    "                \n",
    "offspring=offspring_repair(offspring)\n",
    "print(offspring)\n",
    "print(offspring[0][4])"
   ]
  },
  {
   "cell_type": "code",
   "execution_count": 81,
   "metadata": {},
   "outputs": [
    {
     "data": {
      "text/plain": [
       "[[0, 4, 2, 1, 3], [0, 4, 2, 1, 3]]"
      ]
     },
     "execution_count": 81,
     "metadata": {},
     "output_type": "execute_result"
    }
   ],
   "source": [
    "def mutation(offspring) :\n",
    "    #print(parents)\n",
    "    mute = random.randint(0,49)\n",
    "    #mute=11\n",
    "    if 10<=mute<=20 :\n",
    "        #x=random.randint(0,2)\n",
    "        y = random.randint(0,4)\n",
    "        z = random.randint(0,4)\n",
    "        for i in range (0, len(offspring)):\n",
    "            \n",
    "            offspring[i][y],offspring[i][z] = offspring[i][z], offspring[i][y]\n",
    "    #populations = parents+offspring\n",
    "    #print(offspring)\n",
    "    #print(populations)\n",
    "    return offspring\n",
    "mutation(offspring)"
   ]
  },
  {
   "cell_type": "code",
   "execution_count": 82,
   "metadata": {},
   "outputs": [],
   "source": [
    "#fitness_func([0,4,1,3,2])"
   ]
  },
  {
   "cell_type": "code",
   "execution_count": 92,
   "metadata": {},
   "outputs": [
    {
     "name": "stdout",
     "output_type": "stream",
     "text": [
      "simulation0\n",
      "[[0, 1, 4, 2, 3], [0, 1, 4, 2, 3]]\n",
      "7\n",
      "simulation1\n",
      "[[0, 1, 4, 2, 3], [0, 1, 4, 2, 3]]\n",
      "7\n",
      "simulation2\n",
      "[[0, 1, 4, 2, 3], [0, 1, 4, 2, 3]]\n",
      "7\n",
      "simulation3\n",
      "[[0, 1, 4, 2, 3], [0, 1, 4, 2, 3]]\n",
      "7\n",
      "simulation4\n",
      "[[0, 1, 3, 2, 4], [0, 1, 3, 2, 4]]\n",
      "16\n",
      "simulation5\n",
      "[[0, 1, 4, 2, 3], [0, 1, 4, 2, 3]]\n",
      "7\n",
      "simulation6\n",
      "[[0, 1, 4, 2, 3], [0, 1, 4, 2, 3]]\n",
      "7\n",
      "simulation7\n",
      "[[0, 1, 4, 2, 3], [0, 1, 4, 2, 3]]\n",
      "7\n",
      "simulation8\n",
      "[[0, 1, 4, 2, 3], [0, 1, 4, 2, 3]]\n",
      "7\n",
      "simulation9\n",
      "[[0, 1, 3, 2, 4], [0, 1, 3, 2, 4]]\n",
      "16\n",
      "simulation10\n",
      "[[0, 1, 4, 2, 3], [0, 1, 4, 2, 3]]\n",
      "7\n",
      "simulation11\n",
      "[[0, 1, 4, 2, 3], [0, 1, 4, 2, 3]]\n",
      "7\n",
      "simulation12\n",
      "[[0, 1, 4, 2, 3], [0, 1, 4, 2, 3]]\n",
      "7\n",
      "simulation13\n",
      "[[0, 1, 4, 2, 3], [0, 1, 4, 2, 3]]\n",
      "7\n",
      "simulation14\n",
      "[[0, 1, 4, 2, 3], [0, 1, 4, 2, 3]]\n",
      "7\n",
      "simulation15\n",
      "[[0, 1, 4, 2, 3], [0, 1, 4, 2, 3]]\n",
      "7\n",
      "simulation16\n",
      "[[0, 1, 4, 2, 3], [0, 1, 4, 2, 3]]\n",
      "7\n",
      "simulation17\n",
      "[[0, 1, 4, 2, 3], [0, 1, 4, 2, 3]]\n",
      "7\n",
      "simulation18\n",
      "[[0, 1, 4, 2, 3], [0, 1, 4, 2, 3]]\n",
      "7\n",
      "simulation19\n",
      "[[0, 1, 4, 2, 3], [0, 1, 4, 2, 3]]\n",
      "7\n",
      "simulation20\n",
      "[[0, 1, 4, 2, 3], [0, 1, 4, 2, 3]]\n",
      "7\n",
      "simulation21\n",
      "[[0, 1, 4, 2, 3], [0, 1, 4, 2, 3]]\n",
      "7\n",
      "simulation22\n",
      "[[0, 1, 2, 4, 3], [0, 1, 2, 4, 3]]\n",
      "7\n",
      "simulation23\n",
      "[[0, 1, 2, 4, 3], [0, 1, 2, 4, 3]]\n",
      "7\n",
      "simulation24\n",
      "[[0, 1, 2, 4, 3], [0, 1, 2, 4, 3]]\n",
      "7\n",
      "simulation25\n",
      "[[3, 1, 2, 4, 0], [3, 1, 2, 4, 0]]\n",
      "36\n",
      "simulation26\n",
      "[[0, 1, 2, 4, 3], [0, 1, 2, 4, 3]]\n",
      "7\n",
      "simulation27\n",
      "[[0, 1, 2, 4, 3], [0, 1, 2, 4, 3]]\n",
      "7\n",
      "simulation28\n",
      "[[0, 1, 2, 4, 3], [0, 1, 2, 4, 3]]\n",
      "7\n",
      "simulation29\n",
      "[[0, 1, 2, 4, 3], [0, 1, 2, 4, 3]]\n",
      "7\n",
      "simulation30\n",
      "[[0, 1, 2, 4, 3], [0, 1, 2, 4, 3]]\n",
      "7\n",
      "simulation31\n",
      "[[0, 1, 2, 4, 3], [0, 1, 2, 4, 3]]\n",
      "7\n",
      "simulation32\n",
      "[[0, 1, 2, 4, 3], [0, 1, 2, 4, 3]]\n",
      "7\n",
      "simulation33\n",
      "[[1, 0, 2, 4, 3], [1, 0, 2, 4, 3]]\n",
      "11\n",
      "simulation34\n",
      "[[1, 0, 2, 4, 3], [1, 0, 2, 4, 3]]\n",
      "11\n",
      "simulation35\n",
      "[[0, 1, 2, 4, 3], [0, 1, 2, 4, 3]]\n",
      "7\n",
      "simulation36\n",
      "[[0, 1, 2, 4, 3], [0, 1, 2, 4, 3]]\n",
      "7\n",
      "simulation37\n",
      "[[0, 1, 2, 4, 3], [0, 1, 2, 4, 3]]\n",
      "7\n",
      "simulation38\n",
      "[[0, 1, 2, 4, 3], [0, 1, 2, 4, 3]]\n",
      "7\n",
      "simulation39\n",
      "[[0, 1, 2, 4, 3], [0, 1, 2, 4, 3]]\n",
      "7\n",
      "simulation40\n",
      "[[0, 1, 2, 4, 3], [0, 1, 2, 4, 3]]\n",
      "7\n",
      "simulation41\n",
      "[[0, 2, 1, 4, 3], [0, 2, 1, 4, 3]]\n",
      "10\n",
      "simulation42\n",
      "[[0, 1, 2, 4, 3], [0, 1, 2, 4, 3]]\n",
      "7\n",
      "simulation43\n",
      "[[0, 1, 2, 4, 3], [0, 1, 2, 4, 3]]\n",
      "7\n",
      "simulation44\n",
      "[[0, 1, 4, 2, 3], [0, 1, 4, 2, 3]]\n",
      "7\n",
      "simulation45\n",
      "[[0, 1, 4, 2, 3], [0, 1, 4, 2, 3]]\n",
      "7\n",
      "simulation46\n",
      "[[0, 1, 4, 2, 3], [0, 1, 4, 2, 3]]\n",
      "7\n",
      "simulation47\n",
      "[[0, 1, 4, 2, 3], [0, 1, 4, 2, 3]]\n",
      "7\n",
      "simulation48\n",
      "[[4, 1, 0, 2, 3], [4, 1, 0, 2, 3]]\n",
      "13\n",
      "simulation49\n",
      "[[0, 1, 4, 2, 3], [0, 1, 4, 2, 3]]\n",
      "7\n"
     ]
    }
   ],
   "source": [
    "'''\n",
    "for i in range (0,10):\n",
    "    print('simulation'+str(i))\n",
    "    population.sort(key=lambda x: fitness_func(x))\n",
    "    parents=select_parent(population)\n",
    "    offspring=crossover(parents)\n",
    "    offspring=offspring_repair(offspring)\n",
    "    new_population=mutation(offspring)\n",
    "    print(new_population)\n",
    "    new_population.sort(key=lambda x: fitness_func(x))\n",
    "    print(fitness_func(new_population[0]))\n",
    "    \n",
    "    \n",
    "'''\n",
    "s=0\n",
    "y=[]\n",
    "while s<50:\n",
    "    print('simulation'+str(s))\n",
    "    population.sort(key=lambda x: fitness_func(x))\n",
    "    parents=select_parent(population)\n",
    "    offspring=crossover(parents)\n",
    "    offspring=offspring_repair(offspring)\n",
    "    new_population=mutation(offspring)\n",
    "    print(new_population)\n",
    "    new_population.sort(key=lambda x: fitness_func(x))\n",
    "    print(fitness_func(new_population[0]))\n",
    "    population=new_population+parents\n",
    "    s+=1\n",
    "    y.append(fitness_func(new_population[0]))\n",
    "    "
   ]
  },
  {
   "cell_type": "markdown",
   "metadata": {},
   "source": [
    "visualizing simulation"
   ]
  },
  {
   "cell_type": "code",
   "execution_count": 90,
   "metadata": {},
   "outputs": [
    {
     "data": {
      "image/png": "[encoded data removed]",
      "text/plain": [
       "<Figure size 432x288 with 1 Axes>"
      ]
     },
     "metadata": {
      "needs_background": "light"
     },
     "output_type": "display_data"
    }
   ],
   "source": [
    "x=list(range(s))\n",
    "import matplotlib.pyplot as plt\n",
    "plt.plot(x,y)\n",
    "plt.xlabel('Simulation')\n",
    "plt.ylabel('Fitness_score')\n",
    "plt.show()"
   ]
  },
  {
   "cell_type": "markdown",
   "metadata": {},
   "source": [
    "After running the simulation for 50 times, the most optimal order sequence is (0,1,4,2,3) with fitness score of 7"
   ]
  },
  {
   "cell_type": "code",
   "execution_count": null,
   "metadata": {},
   "outputs": [],
   "source": []
  }
 ],
 "metadata": {
  "kernelspec": {
   "display_name": "Python 3",
   "language": "python",
   "name": "python3"
  },
  "language_info": {
   "codemirror_mode": {
    "name": "ipython",
    "version": 3
   },
   "file_extension": ".py",
   "mimetype": "text/x-python",
   "name": "python",
   "nbconvert_exporter": "python",
   "pygments_lexer": "ipython3",
   "version": "3.6.10"
  }
 },
 "nbformat": 4,
 "nbformat_minor": 4
}
